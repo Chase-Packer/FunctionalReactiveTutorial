{
 "cells": [
  {
   "cell_type": "code",
   "execution_count": 3,
   "metadata": {},
   "outputs": [],
   "source": [
    "from reactivex import of, operators as op"
   ]
  },
  {
   "cell_type": "code",
   "execution_count": 2,
   "metadata": {},
   "outputs": [
    {
     "name": "stdout",
     "output_type": "stream",
     "text": [
      "Received 1\n",
      "Received 4\n",
      "Received 7\n",
      "Received 9\n",
      "Received 0\n",
      "Received 3\n"
     ]
    },
    {
     "data": {
      "text/plain": [
       "<reactivex.disposable.disposable.Disposable at 0x7f7920ef1270>"
      ]
     },
     "execution_count": 2,
     "metadata": {},
     "output_type": "execute_result"
    }
   ],
   "source": [
    "src = of(1,4,7,9,0,3)\n",
    "\n",
    "src.subscribe(\n",
    "    on_next = lambda i : print(f\"Received {i}\")\n",
    ")"
   ]
  },
  {
   "cell_type": "code",
   "execution_count": 5,
   "metadata": {},
   "outputs": [
    {
     "name": "stdout",
     "output_type": "stream",
     "text": [
      "Received 1\n",
      "Received 16\n",
      "Received 49\n",
      "Received 81\n",
      "Received 0\n",
      "Received 9\n",
      "DONE\n"
     ]
    },
    {
     "data": {
      "text/plain": [
       "<reactivex.disposable.disposable.Disposable at 0x7f7920f51120>"
      ]
     },
     "execution_count": 5,
     "metadata": {},
     "output_type": "execute_result"
    }
   ],
   "source": [
    "squared = src.pipe(\n",
    "    op.map(lambda value : value * value)\n",
    ")\n",
    "\n",
    "squared.subscribe( \n",
    "    on_next = lambda val : print(f\"Received {val}\"),\n",
    "    on_completed= lambda : print(\"DONE\")\n",
    ")"
   ]
  },
  {
   "cell_type": "code",
   "execution_count": 6,
   "metadata": {},
   "outputs": [
    {
     "name": "stdout",
     "output_type": "stream",
     "text": [
      "Received 16\n",
      "Received 49\n",
      "Received 81\n"
     ]
    },
    {
     "data": {
      "text/plain": [
       "<reactivex.disposable.disposable.Disposable at 0x7f7920f51420>"
      ]
     },
     "execution_count": 6,
     "metadata": {},
     "output_type": "execute_result"
    }
   ],
   "source": [
    "gt10 = squared.pipe(\n",
    "    op.filter(lambda val: val >=10)\n",
    ")\n",
    "\n",
    "gt10.subscribe(\n",
    "    on_next= lambda val : print(f\"Received {val}\")\n",
    ")"
   ]
  },
  {
   "cell_type": "code",
   "execution_count": null,
   "metadata": {},
   "outputs": [],
   "source": []
  }
 ],
 "metadata": {
  "kernelspec": {
   "display_name": "base",
   "language": "python",
   "name": "python3"
  },
  "language_info": {
   "codemirror_mode": {
    "name": "ipython",
    "version": 3
   },
   "file_extension": ".py",
   "mimetype": "text/x-python",
   "name": "python",
   "nbconvert_exporter": "python",
   "pygments_lexer": "ipython3",
   "version": "3.10.4"
  },
  "orig_nbformat": 4
 },
 "nbformat": 4,
 "nbformat_minor": 2
}
