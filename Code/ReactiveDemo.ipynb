{
 "cells": [
  {
   "cell_type": "code",
   "execution_count": 79,
   "metadata": {},
   "outputs": [],
   "source": [
    "import reactivex\n",
    "from reactivex import operators as ops\n",
    "from ipywidgets import widgets\n",
    "from IPython.display import display"
   ]
  },
  {
   "cell_type": "markdown",
   "metadata": {},
   "source": [
    "The following code demonstrates a basic example of using reactive programming to observe\n",
    "for button clicks in the future and respond by incrementing a counter \n",
    "\n",
    "The code features aspects of reactive programming mentioned in the presentation\n",
    "\n",
    "    - Observerables\n",
    "    - Observers\n",
    "    - Subscribers"
   ]
  },
  {
   "cell_type": "code",
   "execution_count": 83,
   "metadata": {},
   "outputs": [
    {
     "data": {
      "application/vnd.jupyter.widget-view+json": {
       "model_id": "596a4615b2d9404e8ead16d1c16ed2e0",
       "version_major": 2,
       "version_minor": 0
      },
      "text/plain": [
       "Button(description='Test Button', style=ButtonStyle())"
      ]
     },
     "metadata": {},
     "output_type": "display_data"
    },
    {
     "data": {
      "application/vnd.jupyter.widget-view+json": {
       "model_id": "ae0f4672fa4c467e818e3fbca2b77a19",
       "version_major": 2,
       "version_minor": 0
      },
      "text/plain": [
       "Label(value='0')"
      ]
     },
     "metadata": {},
     "output_type": "display_data"
    }
   ],
   "source": [
    "TestButton = widgets.Button(description = \"Test Button\")\n",
    "ButtonSubject = reactivex.Subject()\n",
    "clickCounter = widgets.Label(value = \"0\")\n",
    "\n",
    "def buttonClickEvent(click):\n",
    "    ButtonSubject.on_next(None)\n",
    "\n",
    "clickCounterObservable = ButtonSubject.pipe(ops.scan(lambda acc, _: acc + 1, 0))\n",
    "clickCounterObservable.subscribe(lambda incrementedValue: clickCounter.set_trait(\"value\", str(incrementedValue)))\n",
    "\n",
    "TestButton.on_click(buttonClickEvent)\n",
    "display(TestButton)\n",
    "display(clickCounter)\n",
    "\n"
   ]
  },
  {
   "cell_type": "markdown",
   "metadata": {},
   "source": [
    "The following code has a more complex use of reactive programming: Detecting the Konami code from button clicks! \n",
    "While having a similar structure to the first example, it uses more of the operator functions that were mentioned \n",
    "in the slides to process the data stream and detect if the user has entered the Konami code. "
   ]
  },
  {
   "cell_type": "code",
   "execution_count": 84,
   "metadata": {},
   "outputs": [
    {
     "data": {
      "application/vnd.jupyter.widget-view+json": {
       "model_id": "fab7435c08a64719a2b4f285874f9286",
       "version_major": 2,
       "version_minor": 0
      },
      "text/plain": [
       "Button(description='UP', style=ButtonStyle())"
      ]
     },
     "metadata": {},
     "output_type": "display_data"
    },
    {
     "data": {
      "application/vnd.jupyter.widget-view+json": {
       "model_id": "ebd6f967e45940359679ce2441030d04",
       "version_major": 2,
       "version_minor": 0
      },
      "text/plain": [
       "Button(description='DOWN', style=ButtonStyle())"
      ]
     },
     "metadata": {},
     "output_type": "display_data"
    },
    {
     "data": {
      "application/vnd.jupyter.widget-view+json": {
       "model_id": "5cfdb2911683481bb044b939bb3210a9",
       "version_major": 2,
       "version_minor": 0
      },
      "text/plain": [
       "Button(description='LEFT', style=ButtonStyle())"
      ]
     },
     "metadata": {},
     "output_type": "display_data"
    },
    {
     "data": {
      "application/vnd.jupyter.widget-view+json": {
       "model_id": "c32c1ee754b344ff97723507b1b04c4b",
       "version_major": 2,
       "version_minor": 0
      },
      "text/plain": [
       "Button(description='RIGHT', style=ButtonStyle())"
      ]
     },
     "metadata": {},
     "output_type": "display_data"
    },
    {
     "data": {
      "application/vnd.jupyter.widget-view+json": {
       "model_id": "051f682e11fd42a5b1705ab042872e05",
       "version_major": 2,
       "version_minor": 0
      },
      "text/plain": [
       "Button(description='A', style=ButtonStyle())"
      ]
     },
     "metadata": {},
     "output_type": "display_data"
    },
    {
     "data": {
      "application/vnd.jupyter.widget-view+json": {
       "model_id": "b4b18b69f1774b74b3fdf1db998403c3",
       "version_major": 2,
       "version_minor": 0
      },
      "text/plain": [
       "Button(description='B', style=ButtonStyle())"
      ]
     },
     "metadata": {},
     "output_type": "display_data"
    },
    {
     "data": {
      "application/vnd.jupyter.widget-view+json": {
       "model_id": "9263ba13072b4ab3b360ce07edfc615f",
       "version_major": 2,
       "version_minor": 0
      },
      "text/plain": [
       "Button(description='ENTER', style=ButtonStyle())"
      ]
     },
     "metadata": {},
     "output_type": "display_data"
    },
    {
     "data": {
      "application/vnd.jupyter.widget-view+json": {
       "model_id": "8d0dc3468d7e492dada13e0d66b3d4e4",
       "version_major": 2,
       "version_minor": 0
      },
      "text/plain": [
       "Label(value='Not yet')"
      ]
     },
     "metadata": {},
     "output_type": "display_data"
    }
   ],
   "source": [
    "upButton = widgets.Button(description = \"UP\")\n",
    "downButton = widgets.Button(description = \"DOWN\")\n",
    "leftButton = widgets.Button(description = \"LEFT\")\n",
    "rightButton = widgets.Button(description = \"RIGHT\")\n",
    "aButton = widgets.Button(description = \"A\")\n",
    "bButton = widgets.Button(description = \"B\")\n",
    "enterButton = widgets.Button(description = \"ENTER\")\n",
    "\n",
    "konami = ['UP', 'UP', 'DOWN', 'DOWN', 'LEFT', 'RIGHT', 'LEFT', 'RIGHT', 'B', 'A', 'ENTER']\n",
    "konami_string = \"\".join(konami)\n",
    "\n",
    "konamiButtonSubject = reactivex.Subject()\n",
    "\n",
    "def buttonClickEvent(buttonType):\n",
    "    konamiButtonSubject.on_next(buttonType.description)\n",
    "    #print(f\"Button Clicked: {buttonType.description}\")\n",
    "\n",
    "winMessage = widgets.Label(value = \"Not yet\")\n",
    "\n",
    "def winKonami(konamiWinStatus):\n",
    "    if konamiWinStatus:\n",
    "        winMessage.set_trait(\"value\", \"Successful\")\n",
    "\n",
    "upButton.on_click(buttonClickEvent)\n",
    "downButton.on_click(buttonClickEvent)\n",
    "leftButton.on_click(buttonClickEvent)\n",
    "rightButton.on_click(buttonClickEvent)\n",
    "aButton.on_click(buttonClickEvent)\n",
    "bButton.on_click(buttonClickEvent)\n",
    "enterButton.on_click(buttonClickEvent)\n",
    "\n",
    "konamiObservable = konamiButtonSubject.pipe(ops.buffer_with_count(11, 1), ops.map(lambda presses: \"\".join(presses)), ops.filter(lambda sequence: sequence == konami_string))\n",
    "konamiObservable.subscribe(winKonami)\n",
    "\n",
    "display(upButton)\n",
    "display(downButton)\n",
    "display(leftButton)\n",
    "display(rightButton)\n",
    "display(aButton)\n",
    "display(bButton)\n",
    "display(enterButton)\n",
    "display(winMessage)"
   ]
  }
 ],
 "metadata": {
  "kernelspec": {
   "display_name": "base",
   "language": "python",
   "name": "python3"
  },
  "language_info": {
   "codemirror_mode": {
    "name": "ipython",
    "version": 3
   },
   "file_extension": ".py",
   "mimetype": "text/x-python",
   "name": "python",
   "nbconvert_exporter": "python",
   "pygments_lexer": "ipython3",
   "version": "3.9.13"
  },
  "orig_nbformat": 4
 },
 "nbformat": 4,
 "nbformat_minor": 2
}
