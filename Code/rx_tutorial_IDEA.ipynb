{
 "cells": [
  {
   "cell_type": "markdown",
   "metadata": {},
   "source": [
    "# Reactive Programming Tutorial\n",
    "### With elements from functional programming"
   ]
  },
  {
   "cell_type": "markdown",
   "metadata": {},
   "source": [
    "In this tutorial we will be using reactive programming to process data emitted from a game. \n",
    "#### Brief Overview\n",
    "- We will start by processing a stream of the players who want to play the game, filtering out usernames that are unallowed.\n",
    "- Next we will assign each player to one of two teams\n",
    "- Then we will process data from the first round of the game\n",
    "- Then process data from the final round of the game"
   ]
  },
  {
   "cell_type": "markdown",
   "metadata": {},
   "source": [
    "First, we must import the reactivex module in order to easily program in a reactive style in Python.\n",
    "\n",
    "If you do not have reactivex installed in your current Python environment, you can install it with the following command in the terminal:\n",
    "\n",
    "    pip install reactivex\n",
    "\n",
    "Once reactivex is installed, import it into your project."
   ]
  },
  {
   "cell_type": "code",
   "execution_count": 1,
   "metadata": {},
   "outputs": [],
   "source": [
    "import reactivex as rx\n",
    "import reactivex.operators as op"
   ]
  },
  {
   "cell_type": "markdown",
   "metadata": {},
   "source": [
    "Next, we will create an Observable using the factory method \n",
    "\n",
    "    rx.of()\n",
    "\n",
    "This method takes any number of arguments and returns an Observable that will output the arguments in a stream. We will use this to simulate a stream of usernames of peiple who want to play the game. In a real world application this list would most likely not be known in advance, and instead other reactive programming methods would be used to receive the stream, likely over a network.\n",
    "\n",
    "We will also declare a set of names that are prohibited."
   ]
  },
  {
   "cell_type": "code",
   "execution_count": 2,
   "metadata": {},
   "outputs": [],
   "source": [
    "names = rx.of(\"Albert\", \"Edna\", \"Gertrude\", \"Hannah\", \"Elle\", \"Anna\", \"Booty\", \"Samantha\", \"Cornelia\", \"Sherman\", \"Winston\")\n",
    "prohibited_names = {\"Booty\", \"Bot\"}"
   ]
  },
  {
   "cell_type": "markdown",
   "metadata": {},
   "source": [
    "One of the requirements of the game is that usernames are not alowed to be palindromes. In order to test a name to determine if it is a palindrome, we will define a boolean method in a 'Functional Programming' style. The significant features fo functional programming we will use in this method will be: treating variables as if they are immutable, and using recursion instead of iteration.\n",
    "\n",
    "Observe that the following example is NOT written in a functional style:"
   ]
  },
  {
   "cell_type": "code",
   "execution_count": 3,
   "metadata": {},
   "outputs": [],
   "source": [
    "def nonFunctional_isPalindrome(s):\n",
    "\n",
    "    if len(s) <= 1:\n",
    "        return True\n",
    "    \n",
    "    s = s.lower()\n",
    "\n",
    "    l_index = 0\n",
    "    r_index = len(s) - 1\n",
    "\n",
    "    while l_index < r_index:\n",
    "\n",
    "        print(s[l_index] + \" \" + s[r_index])\n",
    "\n",
    "        if s[l_index] != s[r_index]:\n",
    "            return False\n",
    "        else:\n",
    "            l_index += 1\n",
    "            r_index -= 1\n",
    "\n",
    "    return True\n",
    "    "
   ]
  },
  {
   "cell_type": "markdown",
   "metadata": {},
   "source": [
    "Why does the previous code break functional programming conventions?"
   ]
  },
  {
   "cell_type": "markdown",
   "metadata": {},
   "source": [
    "**Write Answer Here**"
   ]
  },
  {
   "cell_type": "markdown",
   "metadata": {},
   "source": [
    "Now, write a new Palindrome function that follows functional programming conventions."
   ]
  },
  {
   "cell_type": "code",
   "execution_count": 4,
   "metadata": {},
   "outputs": [],
   "source": [
    "\"\"\"Functional Style method to identify palindromes\"\"\"\n",
    "def functional_isPalindrome(s):\n",
    "\n",
    "    if len(s) <= 1:\n",
    "        return True\n",
    "    \n",
    "    new_s = s.lower()\n",
    "    \n",
    "    if (new_s[0] == new_s[-1]):\n",
    "        return functional_isPalindrome(new_s[1:len(new_s)-1])\n",
    "    \n",
    "    else:\n",
    "        return False"
   ]
  },
  {
   "cell_type": "markdown",
   "metadata": {},
   "source": [
    "Now we have two functions (nonFunctional_isPalindrome and functional_isPalindrome) that can identify whether a string is a palindrome or not.  Perhaps not with this particular example, but sometimes, we may prefer to use one function over another in certain situations.  It is here that we can take advantage of another aspect of functional programming, first-class and higher-order functions.\n",
    "\n",
    "In the following block, implement a function \"isPalindrome(), that takes advantage of the principle of first class and higher order functions in order to allow for the passing of function that they want to run (nonFunctional_isPalindrome, or functional_isPalindrome). If no specific method is specified, the function should use the functional_isPanlindrome method.\n",
    "\n"
   ]
  },
  {
   "cell_type": "code",
   "execution_count": 5,
   "metadata": {},
   "outputs": [],
   "source": [
    "def isPalindrome(n, foo = functional_isPalindrome):\n",
    "\n",
    "    return foo(n)"
   ]
  },
  {
   "cell_type": "code",
   "execution_count": 6,
   "metadata": {},
   "outputs": [],
   "source": [
    "player_stream = names.pipe(\n",
    "    op.filter(lambda n : (n not in prohibited_names) and (not isPalindrome(n)))\n",
    ")\n",
    "# After filtering, player_stream should have 6 items"
   ]
  },
  {
   "cell_type": "markdown",
   "metadata": {},
   "source": [
    "### Playing the game"
   ]
  },
  {
   "cell_type": "markdown",
   "metadata": {},
   "source": [
    "The first step in playing the game is assigning the players to a team. We will accomplish this by first creating 2 sets, one that represents the members of the red team, and one that represents the members of the blue team. Players will be assigned to the team in alternating order, starting with the red team. If there is an odd number of players, a player named \"Bot\" will be added to the blue team to even out the ranks (we will also need to add Bot to the end of the player stream)."
   ]
  },
  {
   "cell_type": "code",
   "execution_count": 7,
   "metadata": {},
   "outputs": [
    {
     "name": "stdout",
     "output_type": "stream",
     "text": [
      "Albert\n",
      "Edna\n",
      "Gertrude\n",
      "Samantha\n",
      "Cornelia\n",
      "Sherman\n",
      "Winston\n",
      "Bot\n",
      "{'Gertrude', 'Winston', 'Albert', 'Cornelia'}\n",
      "{'Samantha', 'Edna', 'Sherman', 'Bot'}\n"
     ]
    }
   ],
   "source": [
    "red_team = set()\n",
    "blue_team = set()\n",
    "\n",
    "total_players = 0\n",
    "\n",
    "def add_player(player, team):\n",
    "    global total_players \n",
    "    total_players += 1\n",
    "    team.add(player)\n",
    "\n",
    "# def add_bot():\n",
    "#     blue_team.add(\"Bot\")\n",
    "\n",
    "\n",
    "player_stream.subscribe(\n",
    "    lambda name : add_player(name, red_team) if (not total_players % 2) else add_player(name, blue_team)\n",
    ")\n",
    "\n",
    "if (total_players % 2):\n",
    "    add_player(\"Bot\", blue_team)\n",
    "    player_stream = rx.concat(player_stream, rx.of(\"Bot\"))\n",
    "\n",
    "player_stream.subscribe(\n",
    "    lambda x : print(x)\n",
    ")\n",
    "\n",
    "print(red_team)\n",
    "print(blue_team)"
   ]
  },
  {
   "cell_type": "markdown",
   "metadata": {},
   "source": [
    "In order to simulate \"different\" games being played, we will use a random number generator to determine how many points each player gets. We will create a stream of point values, that we will combine with the stream of player names in order to generate a stream of tuples that contain the name and number of points for each player. Using this stream, we will update the point values for each team."
   ]
  },
  {
   "cell_type": "code",
   "execution_count": 8,
   "metadata": {},
   "outputs": [],
   "source": [
    "from random import randint"
   ]
  },
  {
   "cell_type": "code",
   "execution_count": 9,
   "metadata": {},
   "outputs": [
    {
     "name": "stdout",
     "output_type": "stream",
     "text": [
      "[19, 14]\n"
     ]
    }
   ],
   "source": [
    "r1_point_stream = rx.from_iterable([randint(0,20) for x in range(total_players)])\n",
    "\n",
    "scores = rx.zip(player_stream, r1_point_stream)   # Creates a stream of tuples in the form (player_name, score)\n",
    "\n",
    "point_totals = [0,0]    # [red team score, blue team score]\n",
    "\n",
    "def update_points(score_tuple):\n",
    "    if score_tuple[0] in red_team:\n",
    "        point_totals[0] += score_tuple[1]\n",
    "    else:\n",
    "        point_totals[1] += score_tuple[1]\n",
    "\n",
    "scores.subscribe(\n",
    "    lambda score_tuple : update_points(score_tuple)\n",
    ")\n",
    "\n",
    "print(point_totals)"
   ]
  },
  {
   "cell_type": "markdown",
   "metadata": {},
   "source": [
    "### Final Round"
   ]
  },
  {
   "cell_type": "markdown",
   "metadata": {},
   "source": [
    "In the final round, there will be some modifiers applied to the individaul scores. We will acheive this by mapping values that meet certain criteria."
   ]
  },
  {
   "cell_type": "code",
   "execution_count": 15,
   "metadata": {},
   "outputs": [
    {
     "name": "stdout",
     "output_type": "stream",
     "text": [
      "The winner is the red team with a score of 203.7 to 169.5\n"
     ]
    },
    {
     "data": {
      "text/plain": [
       "<reactivex.disposable.disposable.Disposable at 0x7fb638b0d0c0>"
      ]
     },
     "execution_count": 15,
     "metadata": {},
     "output_type": "execute_result"
    }
   ],
   "source": [
    "# Create a new stream of point values\n",
    "\n",
    "final_point_stream = rx.from_iterable([randint(0,20) for x in range(total_players)])\n",
    "\n",
    "# This time we'll be doing some transformations on the point values\n",
    "    # if the score is divisible by 2, The score is doubled\n",
    "    # if the score is divisible by 3, the score is divided by 3\n",
    "    # if the player is on the losing team, their score is multiplied by 1.1 (if the score is a tie, the red team will be considered the losing team)\n",
    "# Note: the first 2 conditions can be applied directly to the point stream, but the third one requires us to know the players associated with each score\n",
    "\n",
    "losing_team = red_team\n",
    "if point_totals[1] < point_totals[0]:\n",
    "    losing_team = blue_team\n",
    "\n",
    "final_point_stream.pipe(\n",
    "    op.map(lambda x : 2 * x if (not x % 2) else x),\n",
    "    op.map(lambda x : x / 3.0 if (not x % 3) else x)\n",
    ")\n",
    "\n",
    "f_scores = rx.zip(player_stream, final_point_stream)\n",
    "\n",
    "def final_update_points(score_tuple):\n",
    "    if score_tuple[0] in losing_team:\n",
    "        score_tuple = (score_tuple[0], 1.1 * score_tuple[1])\n",
    "    update_points(score_tuple)\n",
    "\n",
    "def print_final_results():\n",
    "    if point_totals[0] > point_totals[1]:\n",
    "        print(f\"The winner is the red team with a score of {point_totals[0]} to {point_totals[1]}\")\n",
    "    else:\n",
    "        print(f\"The winner is the blue team with a score of {point_totals[1]} to {point_totals[0]}\")\n",
    "\n",
    "f_scores.subscribe(\n",
    "    on_next=lambda score_tuple : final_update_points(score_tuple),\n",
    "    on_completed= lambda : print_final_results()\n",
    ")"
   ]
  }
 ],
 "metadata": {
  "kernelspec": {
   "display_name": "base",
   "language": "python",
   "name": "python3"
  },
  "language_info": {
   "codemirror_mode": {
    "name": "ipython",
    "version": 3
   },
   "file_extension": ".py",
   "mimetype": "text/x-python",
   "name": "python",
   "nbconvert_exporter": "python",
   "pygments_lexer": "ipython3",
   "version": "3.10.4"
  },
  "orig_nbformat": 4
 },
 "nbformat": 4,
 "nbformat_minor": 2
}
