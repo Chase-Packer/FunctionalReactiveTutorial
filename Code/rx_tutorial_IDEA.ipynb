{
 "cells": [
  {
   "cell_type": "markdown",
   "metadata": {},
   "source": [
    "# Reactive Programming Tutorial\n",
    "### With elements from functional programming"
   ]
  },
  {
   "cell_type": "markdown",
   "metadata": {},
   "source": []
  },
  {
   "cell_type": "code",
   "execution_count": 1,
   "metadata": {},
   "outputs": [],
   "source": [
    "import reactivex as rx\n",
    "import reactivex.operators as op"
   ]
  },
  {
   "cell_type": "code",
   "execution_count": 17,
   "metadata": {},
   "outputs": [],
   "source": [
    "names = rx.of(\"Albert\", \"Edna\", \"Gertrude\", \"Hannah\", \"Elle\", \"Anna\", \"Booty\", \"Samantha\", \"Cornelia\", \"Sherman\")\n",
    "prohibited_names = {\"Booty\"}"
   ]
  },
  {
   "cell_type": "code",
   "execution_count": 10,
   "metadata": {},
   "outputs": [],
   "source": [
    "\"\"\"Functional Style method to identify palindromes\"\"\"\n",
    "def isPalindrome(s):\n",
    "\n",
    "    if len(s) <= 1:\n",
    "        return True\n",
    "    \n",
    "    new_s = s.lower()\n",
    "    \n",
    "    if (new_s[0] == new_s[-1]):\n",
    "        return isPalindrome(new_s[1:len(new_s)-1])\n",
    "    \n",
    "    else:\n",
    "        return False"
   ]
  },
  {
   "cell_type": "code",
   "execution_count": 18,
   "metadata": {},
   "outputs": [
    {
     "name": "stdout",
     "output_type": "stream",
     "text": [
      "received Albert\n",
      "received Edna\n",
      "received Gertrude\n",
      "received Samantha\n",
      "received Cornelia\n",
      "received Sherman\n"
     ]
    },
    {
     "data": {
      "text/plain": [
       "<reactivex.disposable.disposable.Disposable at 0x7f7d19909f30>"
      ]
     },
     "execution_count": 18,
     "metadata": {},
     "output_type": "execute_result"
    }
   ],
   "source": [
    "player_stream = names.pipe(\n",
    "    op.filter(lambda n : (n not in prohibited_names) and (not isPalindrome(n)))\n",
    ")\n",
    "# After filtering, player_stream should have 6 items"
   ]
  },
  {
   "cell_type": "markdown",
   "metadata": {},
   "source": [
    "Playing the game"
   ]
  },
  {
   "cell_type": "code",
   "execution_count": 19,
   "metadata": {},
   "outputs": [],
   "source": [
    "r1_points = rx.of(0, 10, 3, 4, 12, 6)\n",
    "\n",
    "# NOTE: WE MIGHT BE ABLE TO ASSIGN THESE TEAMS BASED ON THE PLAYERS STREAM, AND THAT WOULD BE A BETTER WAY OF DOING THINGS, \n",
    "# BUT I'M HUNGRY AND TIRED, SO I'M NOT GOING TO TRY TO FIGURE THAT OUT RIGHT NOW\n",
    "red_team = {\"Albert\", \"Gertrude\", \"Cornelia\"}\n",
    "blue_team = {\"Edna\", \"Samantha\", \"Sherman\"}"
   ]
  },
  {
   "cell_type": "code",
   "execution_count": null,
   "metadata": {},
   "outputs": [],
   "source": [
    "scores = op.zip(player_stream, r1_points)   # Creates a stream of tuples in the form (player_name, score)\n",
    "\n",
    "r1_point_threshold = 0     # We can change this if we want people to be filtered out based on their score\n",
    "\n",
    "# Then the idea is to use the zipped streams that matches the players to the scores in order to assign point values to each team\n",
    "# Each team should have a \"point\" stream that we somehow append scores too. IDK if this is actually a valid thing to do, I was\n",
    "# just trying to incorporate more streams, but it would really just make more sense to update a global \"team score\" variable"
   ]
  },
  {
   "cell_type": "markdown",
   "metadata": {},
   "source": [
    "### Final Round"
   ]
  },
  {
   "cell_type": "code",
   "execution_count": null,
   "metadata": {},
   "outputs": [],
   "source": [
    "# Uses the filtered list of players who are still remaining\n",
    "# Create a new stream of point values\n",
    "# This time we'll be doing some transformations on the point values\n",
    "    # if the score is divisible by 2, The score is doubled\n",
    "    # if the score is divisible by 3, the score is divided by 3 :(\n",
    "\n",
    "# Same process as above for assigning point values to each team\n",
    "\n",
    "# PROCESSING THE FINAL RESULTS (if scores are appended to team point stream)\n",
    "# Go through each team's point stream\n",
    "# Update global point scores\n",
    "# Using the point stream's on_complete method, print out the final score for each team"
   ]
  }
 ],
 "metadata": {
  "kernelspec": {
   "display_name": "base",
   "language": "python",
   "name": "python3"
  },
  "language_info": {
   "codemirror_mode": {
    "name": "ipython",
    "version": 3
   },
   "file_extension": ".py",
   "mimetype": "text/x-python",
   "name": "python",
   "nbconvert_exporter": "python",
   "pygments_lexer": "ipython3",
   "version": "3.10.4"
  },
  "orig_nbformat": 4
 },
 "nbformat": 4,
 "nbformat_minor": 2
}
