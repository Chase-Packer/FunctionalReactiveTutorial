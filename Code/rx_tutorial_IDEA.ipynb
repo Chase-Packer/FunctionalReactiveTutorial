{
 "cells": [
  {
   "cell_type": "markdown",
   "metadata": {},
   "source": [
    "# Reactive Programming Tutorial\n",
    "### With elements from functional programming"
   ]
  },
  {
   "cell_type": "markdown",
   "metadata": {},
   "source": [
    "In this tutorial we will be using reactive programming to process data emitted from a game. \n",
    "#### Brief Overview\n",
    "- We will start by processing a stream of the players who want to play the game, filtering out usernames that are unallowed.\n",
    "- Next we will assign each player to one of two teams\n",
    "- Then we will process data from the first round of the game\n",
    "- Then process data from the final round of the game"
   ]
  },
  {
   "cell_type": "markdown",
   "metadata": {},
   "source": [
    "First, we must import the reactivex module in order to easily program in a reactive style in Python.\n",
    "\n",
    "If you do not have reactivex installed in your current Python environment, you can install it with the following command in the terminal:\n",
    "\n",
    "    pip install reactivex\n",
    "\n",
    "Once reactivex is installed, import it into your project."
   ]
  },
  {
   "cell_type": "code",
   "execution_count": 1,
   "metadata": {},
   "outputs": [],
   "source": [
    "import reactivex as rx\n",
    "import reactivex.operators as op"
   ]
  },
  {
   "cell_type": "markdown",
   "metadata": {},
   "source": [
    "Next, we will create an Observable using the factory method \n",
    "\n",
    "    rx.of()\n",
    "\n",
    "This method takes any number of arguments and returns an Observable that will output the arguments in a stream. We will use this to simulate a stream of usernames of peiple who want to play the game. In a real world application this list would most likely not be known in advance, and instead other reactive programming methods would be used to receive the stream, likely over a network.\n",
    "\n",
    "We will also declare a set of names that are prohibited."
   ]
  },
  {
   "cell_type": "code",
   "execution_count": 17,
   "metadata": {},
   "outputs": [],
   "source": [
    "names = rx.of(\"Albert\", \"Edna\", \"Gertrude\", \"Hannah\", \"Elle\", \"Anna\", \"Booty\", \"Samantha\", \"Cornelia\", \"Sherman\")\n",
    "prohibited_names = {\"Booty\"}"
   ]
  },
  {
   "cell_type": "markdown",
   "metadata": {},
   "source": [
    "One of the requirements of the game is that usernames are not alowed to be palindromes. In order to test a name to determine if it is a palindrome, we will define a boolean method in a 'Functional Programming' style. The significant features fo functional programming we will use in this method will be: treating variables as if they are immutable, and using recursion instead of iteration."
   ]
  },
  {
   "cell_type": "code",
   "execution_count": 5,
   "metadata": {},
   "outputs": [],
   "source": [
    "def nonFunctional_isPalindrome(s):\n",
    "\n",
    "    if len(s) <= 1:\n",
    "        return True\n",
    "    \n",
    "    s = s.lower()\n",
    "\n",
    "    l_index = 0\n",
    "    r_index = len(s) - 1\n",
    "\n",
    "    while l_index < r_index:\n",
    "\n",
    "        print(s[l_index] + \" \" + s[r_index])\n",
    "\n",
    "        if s[l_index] != s[r_index]:\n",
    "            return False\n",
    "        else:\n",
    "            l_index += 1\n",
    "            r_index -= 1\n",
    "\n",
    "    return True\n",
    "    "
   ]
  },
  {
   "cell_type": "markdown",
   "metadata": {},
   "source": [
    "Why does the previous code break functional programming conventions?"
   ]
  },
  {
   "cell_type": "markdown",
   "metadata": {},
   "source": [
    "**Write Answer Here**"
   ]
  },
  {
   "cell_type": "markdown",
   "metadata": {},
   "source": [
    "Now, write a new Palindrome function that follows functional programming conventions."
   ]
  },
  {
   "cell_type": "code",
   "execution_count": 10,
   "metadata": {},
   "outputs": [],
   "source": [
    "\"\"\"Functional Style method to identify palindromes\"\"\"\n",
    "def functional_isPalindrome(s):\n",
    "\n",
    "    if len(s) <= 1:\n",
    "        return True\n",
    "    \n",
    "    new_s = s.lower()\n",
    "    \n",
    "    if (new_s[0] == new_s[-1]):\n",
    "        return functional_isPalindrome(new_s[1:len(new_s)-1])\n",
    "    \n",
    "    else:\n",
    "        return False"
   ]
  },
  {
   "cell_type": "markdown",
   "metadata": {},
   "source": [
    "Now we have two functions (nonFunctional_isPalindrome and functional_isPalindrome) that can identify whether a string is a palindrome or not.  Perhaps not with this particular example, but sometimes, we may prefer to use one function over another in certain situations.  It is here that we can take advantage of another aspect of functional programming, first-class and higher-order functions.\n",
    "\n",
    "In the following block, implement a function \"isPalindrome(), that takes advantage of the principle of first class and higher order functions in order to allow for the passing of function that they want to run (nonFunctional_isPalindrome, or functional_isPalindrome)\n",
    "\n"
   ]
  },
  {
   "cell_type": "code",
   "execution_count": null,
   "metadata": {},
   "outputs": [],
   "source": [
    "def isPalindrome(n, foo):\n",
    "\n",
    "    return foo(n)"
   ]
  },
  {
   "cell_type": "code",
   "execution_count": 18,
   "metadata": {},
   "outputs": [
    {
     "name": "stdout",
     "output_type": "stream",
     "text": [
      "received Albert\n",
      "received Edna\n",
      "received Gertrude\n",
      "received Samantha\n",
      "received Cornelia\n",
      "received Sherman\n"
     ]
    },
    {
     "data": {
      "text/plain": [
       "<reactivex.disposable.disposable.Disposable at 0x7f7d19909f30>"
      ]
     },
     "execution_count": 18,
     "metadata": {},
     "output_type": "execute_result"
    }
   ],
   "source": [
    "player_stream = names.pipe(\n",
    "    op.filter(lambda n : (n not in prohibited_names) and (not isPalindrome(n, functional_isPalindrome)))\n",
    ")\n",
    "# After filtering, player_stream should have 6 items"
   ]
  },
  {
   "cell_type": "markdown",
   "metadata": {},
   "source": [
    "Playing the game"
   ]
  },
  {
   "cell_type": "code",
   "execution_count": 19,
   "metadata": {},
   "outputs": [],
   "source": [
    "r1_points = rx.of(0, 10, 3, 4, 12, 6)\n",
    "\n",
    "# NOTE: WE WILL ASSIGN THESE TEAMS BASED ON ALTERNATING ORDER IN THE PLAYER STREM. I JUST DON'T KNOW HOW TO DO THAT RIGHT NOW\n",
    "red_team = {\"Albert\", \"Gertrude\", \"Cornelia\"}\n",
    "blue_team = {\"Edna\", \"Samantha\", \"Sherman\"}"
   ]
  },
  {
   "cell_type": "code",
   "execution_count": null,
   "metadata": {},
   "outputs": [],
   "source": [
    "scores = op.zip(player_stream, r1_points)   # Creates a stream of tuples in the form (player_name, score)\n",
    "\n",
    "r1_point_threshold = 0     # We can change this if we want people to be filtered out based on their score\n",
    "                            # Actually, I don't think we should do this\n",
    "\n",
    "# Then the idea is to use the zipped streams that matches the players to the scores in order to assign point values to each team\n",
    "# Each team should have a \"point\" stream that we somehow append scores too. IDK if this is actually a valid thing to do, I was\n",
    "# just trying to incorporate more streams, but it would really just make more sense to update a global \"team score\" variable"
   ]
  },
  {
   "cell_type": "markdown",
   "metadata": {},
   "source": [
    "### Final Round"
   ]
  },
  {
   "cell_type": "code",
   "execution_count": null,
   "metadata": {},
   "outputs": [],
   "source": [
    "# Uses the filtered list of players who are still remaining\n",
    "# Create a new stream of point values\n",
    "# This time we'll be doing some transformations on the point values\n",
    "    # if the score is divisible by 2, The score is doubled\n",
    "    # if the score is divisible by 3, the score is divided by 3 :(\n",
    "    # if the player is on the losing team, their score is multiplied by 1.2\n",
    "\n",
    "# Same process as above for assigning point values to each team\n",
    "\n",
    "# PROCESSING THE FINAL RESULTS (if scores are appended to team point stream)\n",
    "# Go through each team's point stream\n",
    "# Update global point scores\n",
    "# Using the point stream's on_complete method, print out the final score for each team"
   ]
  }
 ],
 "metadata": {
  "kernelspec": {
   "display_name": "base",
   "language": "python",
   "name": "python3"
  },
  "language_info": {
   "codemirror_mode": {
    "name": "ipython",
    "version": 3
   },
   "file_extension": ".py",
   "mimetype": "text/x-python",
   "name": "python",
   "nbconvert_exporter": "python",
   "pygments_lexer": "ipython3",
   "version": "3.11.4"
  },
  "orig_nbformat": 4
 },
 "nbformat": 4,
 "nbformat_minor": 2
}
