{
 "cells": [
  {
   "cell_type": "markdown",
   "metadata": {},
   "source": [
    "This File contains various functions in python that demonstrate practices in functional programming"
   ]
  },
  {
   "cell_type": "markdown",
   "metadata": {},
   "source": [
    "Functional Progamming has 4 major concepts:\n",
    "\n",
    "    -Pure Functions\n",
    "    -Referential Transparency/Immutable Variables\n",
    "    -Recursion\n",
    "    -First-Class and Higher-Order Functions"
   ]
  },
  {
   "cell_type": "markdown",
   "metadata": {},
   "source": [
    "Look at the following code below for calculating a number x to the power y."
   ]
  },
  {
   "cell_type": "code",
   "execution_count": 17,
   "metadata": {},
   "outputs": [
    {
     "name": "stdout",
     "output_type": "stream",
     "text": [
      "8\n",
      "3\n"
     ]
    }
   ],
   "source": [
    "x = 2\n",
    "y = 3\n",
    "z = 0\n",
    "\n",
    "\n",
    "def power(x, y):\n",
    "\n",
    "    global z\n",
    "\n",
    "    result = 1\n",
    "\n",
    "    if y == 0:\n",
    "\n",
    "        x = 1\n",
    "\n",
    "    while y > 0:\n",
    "        result = result * x\n",
    "        y = y - 1\n",
    "        z += 1\n",
    "\n",
    "    print(result)\n",
    "\n",
    "\n",
    "power(x, y)\n",
    "print(z)\n"
   ]
  },
  {
   "cell_type": "markdown",
   "metadata": {},
   "source": [
    "There are multiple problems with the following code\n",
    "\n",
    "\n",
    "\n"
   ]
  },
  {
   "cell_type": "markdown",
   "metadata": {},
   "source": [
    "1. It is not a pure Function: It modifies a global variable z without returning it, constituting a side-effect. It also does not return anything.\n",
    "\n",
    "    The following code corrects this by removing z and having the function return the result\n",
    "\n",
    "\n",
    "\n",
    "***Note, Techincally print statements themselves are not pure functions and violate the \"rules\" of functional programming.  But for the sake of showing output, we will use them here.***"
   ]
  },
  {
   "cell_type": "code",
   "execution_count": 16,
   "metadata": {},
   "outputs": [
    {
     "name": "stdout",
     "output_type": "stream",
     "text": [
      "8\n"
     ]
    }
   ],
   "source": [
    "x = 2\n",
    "y = 3\n",
    "\n",
    "\n",
    "def power(x, y):\n",
    "\n",
    "\n",
    "    result = 1\n",
    "\n",
    "    if y == 0:\n",
    "\n",
    "        result = 1\n",
    "\n",
    "    while y > 0:\n",
    "        result = result * x\n",
    "        y = y - 1\n",
    "\n",
    "    return result\n",
    "\n",
    "\n",
    "result = power(x, y)\n",
    "\n",
    "print(result)"
   ]
  },
  {
   "cell_type": "markdown",
   "metadata": {},
   "source": [
    "2. It result, y, and z will have their value changed several times, violating the requirement for immutable variables and referential transparency/\n",
    "3. It utilizes a while loop instead of recursion\n",
    "    \n",
    "    To fix both of these issues, we can implement the function as a recursive function\n",
    "    "
   ]
  },
  {
   "cell_type": "code",
   "execution_count": 19,
   "metadata": {},
   "outputs": [
    {
     "name": "stdout",
     "output_type": "stream",
     "text": [
      "8\n"
     ]
    }
   ],
   "source": [
    "x = 2\n",
    "y = 3\n",
    "\n",
    "def power(x, y):\n",
    "\n",
    "    if y == 0:\n",
    "        return 1\n",
    "    \n",
    "    return x * power(x, y -1)\n",
    "\n",
    "\n",
    "print(power(x, y))"
   ]
  },
  {
   "cell_type": "markdown",
   "metadata": {},
   "source": [
    "The other main aspect of Functional Programming is First-Class and High-Order Functions.  In broad terms, what this allows us to do is to create functions that accept other functions as parameters. As you can see in the following example."
   ]
  },
  {
   "cell_type": "code",
   "execution_count": 20,
   "metadata": {},
   "outputs": [
    {
     "name": "stdout",
     "output_type": "stream",
     "text": [
      "8\n",
      "6\n"
     ]
    }
   ],
   "source": [
    "def power(x, y):\n",
    "\n",
    "    if y == 0:\n",
    "        return 1\n",
    "    \n",
    "    return x * power(x, y -1)\n",
    "\n",
    "def multiply(x, y):\n",
    "\n",
    "    if y == 0:\n",
    "        return 0\n",
    "    \n",
    "    if y == 1:\n",
    "        return x\n",
    "    \n",
    "    return x + multiply(x, y - 1)\n",
    "\n",
    "\n",
    "def operate(foo, x, y):\n",
    "\n",
    "    return foo(x, y)\n",
    "\n",
    "\n",
    "x = 2\n",
    "y = 3\n",
    "\n",
    "print(operate(power, x, y))\n",
    "print(operate(multiply, x, y))\n",
    "\n"
   ]
  },
  {
   "cell_type": "markdown",
   "metadata": {},
   "source": [
    "The following code demonstrates the functional programming in terms of coding a gpa calculator, comparing the iterative and functional approaches and demonstrating the primary aspects of functional programming."
   ]
  },
  {
   "cell_type": "code",
   "execution_count": 26,
   "metadata": {},
   "outputs": [
    {
     "name": "stdout",
     "output_type": "stream",
     "text": [
      "3.238095238095238\n",
      "3.238095238095238\n"
     ]
    }
   ],
   "source": [
    "grades = [[4.0, 3], [3.0, 2], [2.7, 4], [3.7, 3], [4.0, 2], [2.3, 3], [3.3, 4]]\n",
    "\n",
    "\n",
    "def iterativeGPA(grade_list):\n",
    "\n",
    "    points = 0\n",
    "    hours = 0\n",
    "\n",
    "    for grade in grade_list:\n",
    "\n",
    "        points += grade[0] * grade[1]\n",
    "        hours += grade[1]\n",
    "\n",
    "    result = points / hours\n",
    "\n",
    "    return result\n",
    "\n",
    "#Achieves the calculation in the while loop of the iterativeGPA function, but uses recursion instead\n",
    "'''\n",
    "for grade in grade_list:\n",
    "    points += grade[0] * grade[1]\n",
    "'''\n",
    "def countPoints(grade_list, index):\n",
    "\n",
    "    if index >= len(grade_list):\n",
    "        return 0\n",
    "\n",
    "    return grade_list[index][0] * grade_list[index][1] + countPoints(grade_list, index + 1)\n",
    "\n",
    "'''\n",
    "for grade in grade_list:\n",
    "    points += grade[1]\n",
    "'''\n",
    "def countHours(grade_list, index):\n",
    "\n",
    "    if index >= len(grade_list):\n",
    "        return 0\n",
    "\n",
    "    return grade_list[index][1] + countHours(grade_list, index + 1)\n",
    "\n",
    "\n",
    "def functionalGPA(grade_list):\n",
    "\n",
    "    return countPoints(grade_list, 0) / countHours(grade_list, 0)\n",
    "\n",
    "def calculateGPA(foo, grade_list):\n",
    "\n",
    "    return foo(grade_list)\n",
    "\n",
    "\n",
    "print(calculateGPA(iterativeGPA, grades))\n",
    "print(calculateGPA(functionalGPA, grades))\n",
    "\n",
    "    \n"
   ]
  }
 ],
 "metadata": {
  "kernelspec": {
   "display_name": "Python 3",
   "language": "python",
   "name": "python3"
  },
  "language_info": {
   "codemirror_mode": {
    "name": "ipython",
    "version": 3
   },
   "file_extension": ".py",
   "mimetype": "text/x-python",
   "name": "python",
   "nbconvert_exporter": "python",
   "pygments_lexer": "ipython3",
   "version": "3.11.4"
  },
  "orig_nbformat": 4
 },
 "nbformat": 4,
 "nbformat_minor": 2
}
